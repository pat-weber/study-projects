{
  "cells": [
    {
      "cell_type": "markdown",
      "metadata": {
        "id": "view-in-github",
        "colab_type": "text"
      },
      "source": [
        "<a href=\"https://colab.research.google.com/github/pat-weber/study-projects/blob/main/AED_Instacart.ipynb\" target=\"_parent\"><img src=\"https://colab.research.google.com/assets/colab-badge.svg\" alt=\"Open In Colab\"/></a>"
      ]
    },
    {
      "cell_type": "markdown",
      "id": "3Xg_RQfnafXz",
      "metadata": {
        "id": "3Xg_RQfnafXz"
      },
      "source": [
        "\n",
        "\n",
        "\n",
        "# Análise exploratória de dados da plataforma Instacart"
      ]
    },
    {
      "cell_type": "markdown",
      "id": "mhIvmmkW414q",
      "metadata": {
        "id": "mhIvmmkW414q"
      },
      "source": [
        "# Objetivo\n",
        "\n",
        "A Instacart é uma plataforma de entrega de supermercado onde os clientes podem fazer um pedido de supermercado e receber a compra em casa, semelhante ao funcionamento do Uber Eats e do iFood.\n",
        "\n"
      ]
    },
    {
      "cell_type": "markdown",
      "id": "3MbyzpOQZ5Or",
      "metadata": {
        "id": "3MbyzpOQZ5Or"
      },
      "source": [
        "## Base de dados\n",
        "\n",
        "Há cinco tabelas no conjunto de dados, abaixo está um dicionário que lista as colunas de cada tabela e descreve os dados contidos nelas.\n",
        "\n",
        "- `instacart_orders.csv`: cada linha corresponde a um pedido no aplicativo da Instacart\n",
        "    - `'order_id'`: é o número de identificação unívoco de cada pedido\n",
        "    - `'user_id'`: é o número de identificação unívoco da conta de cada cliente\n",
        "    - `'order_number'`: é o número de vezes que o cliente fez um pedido\n",
        "    - `'order_dow'`: é o dia da semana em que o pedido foi feito (0 é domingo)\n",
        "    - `'order_hour_of_day'`: é a hora do dia em que o pedido foi feito\n",
        "    - `'days_since_prior_order'`: é o número de dias desde que o cliente fez seu pedido anterior\n",
        "\n",
        "\n",
        "\n",
        "\n",
        "- `products.csv`: cada linha corresponde a um produto unívoco que os clientes podem comprar\n",
        "    - `'product_id'`: é o número de identificação unívoco de cada produto\n",
        "    - `'product_name'`: é o nome do produto\n",
        "    - `'aisle_id'`: é o número de identificação unívoco de cada categoria de seção do supermercado\n",
        "    - `'department_id'`: é o número de identificação unívoco de cada categoria de departamento do supermercado\n",
        "\n",
        "\n",
        "\n",
        "\n",
        "-\t`order_products.csv`: cada linha corresponde a um item incluído em um pedido\n",
        "    -\t`'order_id'`: é o número de identificação unívoco de cada pedido\n",
        "    -\t`'product_id'`: é o número de identificação unívoco de cada produto\n",
        "    -\t`'add_to_cart_order'`: é a ordem sequencial em que cada item foi colocado no carrinho\n",
        "    -\t`'reordered'`: 0 se o cliente nunca comprou o produto antes, 1 se já o comprou\n",
        "\n",
        "\n",
        "\n",
        "\n",
        "-\t`aisles.csv`\n",
        "    -\t`'aisle_id'`: é o número de identificação unívoco de cada categoria de seção do supermercado\n",
        "    -\t`'aisle'`: é o nome da seção\n",
        "\n",
        "\n",
        "\n",
        "-\t`departments.csv`\n",
        "    -\t`'department_id'`: é o número de identificação unívoco de cada categoria de departamento do supermercado\n",
        "    -\t`'department'`: é o nome do departamento\n"
      ]
    },
    {
      "cell_type": "markdown",
      "id": "3269810c",
      "metadata": {
        "id": "3269810c"
      },
      "source": [
        "# Análise dos dados"
      ]
    },
    {
      "cell_type": "code",
      "execution_count": 2,
      "id": "fbf1adab",
      "metadata": {
        "id": "fbf1adab"
      },
      "outputs": [],
      "source": [
        "# Importação de bibliotecas.\n",
        "\n",
        "import pandas as pd\n",
        "from matplotlib import pyplot as plt\n",
        "\n"
      ]
    },
    {
      "cell_type": "code",
      "execution_count": 4,
      "id": "ad36396d",
      "metadata": {
        "id": "ad36396d"
      },
      "outputs": [],
      "source": [
        "# Leitura dos dataframes.\n",
        "\n",
        "df_orders = pd.read_csv('https://practicum-content.s3.us-west-1.amazonaws.com/new-markets/Data_Refactored_2_sprint/datasets/instacart_orders.csv')\n",
        "df_products = pd.read_csv('https://practicum-content.s3.us-west-1.amazonaws.com/new-markets/Data_Refactored_2_sprint/datasets/products.csv')\n",
        "df_aisles = pd.read_csv('https://practicum-content.s3.us-west-1.amazonaws.com/new-markets/Data_Refactored_2_sprint/datasets/aisles.csv')\n",
        "df_departments = pd.read_csv('https://practicum-content.s3.us-west-1.amazonaws.com/new-markets/Data_Refactored_2_sprint/datasets/departments.csv')\n",
        "df_order_products = pd.read_csv('https://practicum-content.s3.us-west-1.amazonaws.com/new-markets/Data_Refactored_2_sprint/order_products.csv.zip')\n"
      ]
    },
    {
      "cell_type": "code",
      "execution_count": 5,
      "id": "ad6a1efa",
      "metadata": {
        "id": "ad6a1efa",
        "colab": {
          "base_uri": "https://localhost:8080/"
        },
        "outputId": "a6b4a213-6d35-4827-d7a8-cb435a81ca00"
      },
      "outputs": [
        {
          "output_type": "stream",
          "name": "stdout",
          "text": [
            "<class 'pandas.core.frame.DataFrame'>\n",
            "RangeIndex: 478967 entries, 0 to 478966\n",
            "Data columns (total 1 columns):\n",
            " #   Column                                                                            Non-Null Count   Dtype \n",
            "---  ------                                                                            --------------   ----- \n",
            " 0   order_id;user_id;order_number;order_dow;order_hour_of_day;days_since_prior_order  478967 non-null  object\n",
            "dtypes: object(1)\n",
            "memory usage: 3.7+ MB\n",
            "\n",
            "  order_id;user_id;order_number;order_dow;order_hour_of_day;days_since_prior_order\n",
            "0                        1515936;183418;11;6;13;30.0                              \n",
            "1                          1690866;163593;5;5;12;9.0                              \n",
            "2                           1454967;39980;4;5;19;2.0                              \n",
            "3                         1768857;82516;56;0;20;10.0                              \n",
            "4                         3007858;196724;2;4;12;17.0                              \n"
          ]
        }
      ],
      "source": [
        "# Informações do dataframe de pedidos.\n",
        "\n",
        "df_orders.info()\n",
        "print()\n",
        "print(df_orders.head())\n"
      ]
    },
    {
      "cell_type": "code",
      "execution_count": 6,
      "id": "5130e05e",
      "metadata": {
        "id": "5130e05e",
        "colab": {
          "base_uri": "https://localhost:8080/"
        },
        "outputId": "d7cb136e-2064-45d0-8bab-13ed308589a9"
      },
      "outputs": [
        {
          "output_type": "stream",
          "name": "stdout",
          "text": [
            "<class 'pandas.core.frame.DataFrame'>\n",
            "RangeIndex: 49694 entries, 0 to 49693\n",
            "Data columns (total 1 columns):\n",
            " #   Column                                          Non-Null Count  Dtype \n",
            "---  ------                                          --------------  ----- \n",
            " 0   product_id;product_name;aisle_id;department_id  49694 non-null  object\n",
            "dtypes: object(1)\n",
            "memory usage: 388.4+ KB\n",
            "\n",
            "      product_id;product_name;aisle_id;department_id\n",
            "0                 1;Chocolate Sandwich Cookies;61;19\n",
            "1                          2;All-Seasons Salt;104;13\n",
            "2        3;Robust Golden Unsweetened Oolong Tea;94;7\n",
            "3  4;Smart Ones Classic Favorites Mini Rigatoni W...\n",
            "4                   5;Green Chile Anytime Sauce;5;13\n"
          ]
        }
      ],
      "source": [
        "# Informações do dataframe de produtos.\n",
        "\n",
        "df_products.info()\n",
        "print()\n",
        "print(df_products.head())\n"
      ]
    },
    {
      "cell_type": "code",
      "execution_count": 7,
      "id": "d8370c05",
      "metadata": {
        "id": "d8370c05",
        "colab": {
          "base_uri": "https://localhost:8080/"
        },
        "outputId": "9f71d074-f580-4aa8-91c2-782a187e27c4"
      },
      "outputs": [
        {
          "output_type": "stream",
          "name": "stdout",
          "text": [
            "<class 'pandas.core.frame.DataFrame'>\n",
            "RangeIndex: 134 entries, 0 to 133\n",
            "Data columns (total 1 columns):\n",
            " #   Column          Non-Null Count  Dtype \n",
            "---  ------          --------------  ----- \n",
            " 0   aisle_id;aisle  134 non-null    object\n",
            "dtypes: object(1)\n",
            "memory usage: 1.2+ KB\n",
            "\n",
            "                 aisle_id;aisle\n",
            "0       1;prepared soups salads\n",
            "1           2;specialty cheeses\n",
            "2         3;energy granola bars\n",
            "3               4;instant foods\n",
            "4  5;marinades meat preparation\n"
          ]
        }
      ],
      "source": [
        "# Informações do dataframe de seções\n",
        "\n",
        "df_aisles.info()\n",
        "print()\n",
        "print(df_aisles.head())"
      ]
    },
    {
      "cell_type": "code",
      "execution_count": 8,
      "id": "59e2090f",
      "metadata": {
        "id": "59e2090f",
        "scrolled": false,
        "colab": {
          "base_uri": "https://localhost:8080/"
        },
        "outputId": "cf0434e0-68aa-4839-eb74-0c9940561c37"
      },
      "outputs": [
        {
          "output_type": "stream",
          "name": "stdout",
          "text": [
            "<class 'pandas.core.frame.DataFrame'>\n",
            "RangeIndex: 21 entries, 0 to 20\n",
            "Data columns (total 1 columns):\n",
            " #   Column                    Non-Null Count  Dtype \n",
            "---  ------                    --------------  ----- \n",
            " 0   department_id;department  21 non-null     object\n",
            "dtypes: object(1)\n",
            "memory usage: 296.0+ bytes\n",
            "\n",
            "  department_id;department\n",
            "0                 1;frozen\n",
            "1                  2;other\n",
            "2                 3;bakery\n",
            "3                4;produce\n",
            "4                5;alcohol\n"
          ]
        }
      ],
      "source": [
        "# Informações do datafame de departamentos.\n",
        "\n",
        "df_departments.info()\n",
        "print()\n",
        "print(df_departments.head())"
      ]
    },
    {
      "cell_type": "code",
      "execution_count": 9,
      "id": "6fc81694",
      "metadata": {
        "id": "6fc81694",
        "colab": {
          "base_uri": "https://localhost:8080/"
        },
        "outputId": "12854c8b-63c1-468d-aa05-68fd8a7c0df4"
      },
      "outputs": [
        {
          "output_type": "stream",
          "name": "stdout",
          "text": [
            "<class 'pandas.core.frame.DataFrame'>\n",
            "RangeIndex: 4545007 entries, 0 to 4545006\n",
            "Data columns (total 1 columns):\n",
            " #   Column                                           Dtype \n",
            "---  ------                                           ----- \n",
            " 0   order_id;product_id;add_to_cart_order;reordered  object\n",
            "dtypes: object(1)\n",
            "memory usage: 34.7+ MB\n",
            "\n",
            "  order_id;product_id;add_to_cart_order;reordered\n",
            "0                            2141543;11440;17.0;0\n",
            "1                               567889;1560;1.0;1\n",
            "2                             2261212;26683;1.0;1\n",
            "3                              491251;8670;35.0;1\n",
            "4                              2571142;1940;5.0;1\n"
          ]
        }
      ],
      "source": [
        "# Informações do dataframe de itens em cada pedido.\n",
        "\n",
        "df_order_products.info()\n",
        "print()\n",
        "print(df_order_products.head())"
      ]
    },
    {
      "cell_type": "markdown",
      "id": "d4ae4090",
      "metadata": {
        "id": "d4ae4090"
      },
      "source": [
        "**Comentário**\n",
        "\n",
        "Os arquivos lidos têm os valores separados por \";\". Para melhor visualização dos dados vamos reler os dataframes passando o parâmetro sep=';'. Assim teremos nossos dados alinhados nas colunas."
      ]
    },
    {
      "cell_type": "code",
      "execution_count": 11,
      "id": "77511944",
      "metadata": {
        "id": "77511944"
      },
      "outputs": [],
      "source": [
        "# Leitura dos dataframes passando como argumento o separador \";\" e decimal em ponto.\n",
        "\n",
        "df_orders = pd.read_csv('https://practicum-content.s3.us-west-1.amazonaws.com/new-markets/Data_Refactored_2_sprint/datasets/instacart_orders.csv', sep = ';', decimal = '.')\n",
        "df_products = pd.read_csv('https://practicum-content.s3.us-west-1.amazonaws.com/new-markets/Data_Refactored_2_sprint/datasets/products.csv', sep = ';', decimal = '.')\n",
        "df_aisles = pd.read_csv('https://practicum-content.s3.us-west-1.amazonaws.com/new-markets/Data_Refactored_2_sprint/datasets/aisles.csv', sep = ';', decimal = '.')\n",
        "df_departments = pd.read_csv('https://practicum-content.s3.us-west-1.amazonaws.com/new-markets/Data_Refactored_2_sprint/datasets/departments.csv', sep = ';', decimal = '.')\n",
        "df_order_products = pd.read_csv('https://practicum-content.s3.us-west-1.amazonaws.com/new-markets/Data_Refactored_2_sprint/order_products.csv.zip', sep = ';', decimal = '.')\n"
      ]
    },
    {
      "cell_type": "code",
      "execution_count": 12,
      "id": "63b6011f",
      "metadata": {
        "id": "63b6011f",
        "colab": {
          "base_uri": "https://localhost:8080/"
        },
        "outputId": "aa56c3ad-b468-4d4e-bf20-59994a936141"
      },
      "outputs": [
        {
          "output_type": "stream",
          "name": "stdout",
          "text": [
            "<class 'pandas.core.frame.DataFrame'>\n",
            "RangeIndex: 478967 entries, 0 to 478966\n",
            "Data columns (total 6 columns):\n",
            " #   Column                  Non-Null Count   Dtype  \n",
            "---  ------                  --------------   -----  \n",
            " 0   order_id                478967 non-null  int64  \n",
            " 1   user_id                 478967 non-null  int64  \n",
            " 2   order_number            478967 non-null  int64  \n",
            " 3   order_dow               478967 non-null  int64  \n",
            " 4   order_hour_of_day       478967 non-null  int64  \n",
            " 5   days_since_prior_order  450148 non-null  float64\n",
            "dtypes: float64(1), int64(5)\n",
            "memory usage: 21.9 MB\n",
            "\n",
            "   order_id  user_id  order_number  order_dow  order_hour_of_day  \\\n",
            "0   1515936   183418            11          6                 13   \n",
            "1   1690866   163593             5          5                 12   \n",
            "2   1454967    39980             4          5                 19   \n",
            "3   1768857    82516            56          0                 20   \n",
            "4   3007858   196724             2          4                 12   \n",
            "\n",
            "   days_since_prior_order  \n",
            "0                    30.0  \n",
            "1                     9.0  \n",
            "2                     2.0  \n",
            "3                    10.0  \n",
            "4                    17.0  \n"
          ]
        }
      ],
      "source": [
        "# Informações do dataframe de pedidos.\n",
        "\n",
        "df_orders.info()\n",
        "print()\n",
        "print(df_orders.head())"
      ]
    },
    {
      "cell_type": "code",
      "execution_count": 13,
      "id": "cbaf6c5b",
      "metadata": {
        "id": "cbaf6c5b",
        "colab": {
          "base_uri": "https://localhost:8080/"
        },
        "outputId": "14538f98-1aa7-4a51-83ec-6047da9be6ed"
      },
      "outputs": [
        {
          "output_type": "stream",
          "name": "stdout",
          "text": [
            "<class 'pandas.core.frame.DataFrame'>\n",
            "RangeIndex: 49694 entries, 0 to 49693\n",
            "Data columns (total 4 columns):\n",
            " #   Column         Non-Null Count  Dtype \n",
            "---  ------         --------------  ----- \n",
            " 0   product_id     49694 non-null  int64 \n",
            " 1   product_name   48436 non-null  object\n",
            " 2   aisle_id       49694 non-null  int64 \n",
            " 3   department_id  49694 non-null  int64 \n",
            "dtypes: int64(3), object(1)\n",
            "memory usage: 1.5+ MB\n",
            "\n",
            "   product_id                                       product_name  aisle_id  \\\n",
            "0           1                         Chocolate Sandwich Cookies        61   \n",
            "1           2                                   All-Seasons Salt       104   \n",
            "2           3               Robust Golden Unsweetened Oolong Tea        94   \n",
            "3           4  Smart Ones Classic Favorites Mini Rigatoni Wit...        38   \n",
            "4           5                          Green Chile Anytime Sauce         5   \n",
            "\n",
            "   department_id  \n",
            "0             19  \n",
            "1             13  \n",
            "2              7  \n",
            "3              1  \n",
            "4             13  \n"
          ]
        }
      ],
      "source": [
        "# Informações do dataframe de produtos.\n",
        "\n",
        "df_products.info()\n",
        "print()\n",
        "print(df_products.head())"
      ]
    },
    {
      "cell_type": "code",
      "execution_count": 14,
      "id": "9473592b",
      "metadata": {
        "id": "9473592b",
        "colab": {
          "base_uri": "https://localhost:8080/"
        },
        "outputId": "58d024b3-6804-4b74-b4a3-1557b67af10d"
      },
      "outputs": [
        {
          "output_type": "stream",
          "name": "stdout",
          "text": [
            "<class 'pandas.core.frame.DataFrame'>\n",
            "RangeIndex: 134 entries, 0 to 133\n",
            "Data columns (total 2 columns):\n",
            " #   Column    Non-Null Count  Dtype \n",
            "---  ------    --------------  ----- \n",
            " 0   aisle_id  134 non-null    int64 \n",
            " 1   aisle     134 non-null    object\n",
            "dtypes: int64(1), object(1)\n",
            "memory usage: 2.2+ KB\n",
            "\n",
            "   aisle_id                       aisle\n",
            "0         1       prepared soups salads\n",
            "1         2           specialty cheeses\n",
            "2         3         energy granola bars\n",
            "3         4               instant foods\n",
            "4         5  marinades meat preparation\n"
          ]
        }
      ],
      "source": [
        "# Informações do dataframe de seções.\n",
        "\n",
        "df_aisles.info()\n",
        "print()\n",
        "print(df_aisles.head())"
      ]
    },
    {
      "cell_type": "code",
      "execution_count": 15,
      "id": "7d305dea",
      "metadata": {
        "id": "7d305dea",
        "colab": {
          "base_uri": "https://localhost:8080/"
        },
        "outputId": "50901e30-aa1c-400e-d649-8e54cca75817"
      },
      "outputs": [
        {
          "output_type": "stream",
          "name": "stdout",
          "text": [
            "<class 'pandas.core.frame.DataFrame'>\n",
            "RangeIndex: 21 entries, 0 to 20\n",
            "Data columns (total 2 columns):\n",
            " #   Column         Non-Null Count  Dtype \n",
            "---  ------         --------------  ----- \n",
            " 0   department_id  21 non-null     int64 \n",
            " 1   department     21 non-null     object\n",
            "dtypes: int64(1), object(1)\n",
            "memory usage: 464.0+ bytes\n",
            "\n",
            "   department_id department\n",
            "0              1     frozen\n",
            "1              2      other\n",
            "2              3     bakery\n",
            "3              4    produce\n",
            "4              5    alcohol\n"
          ]
        }
      ],
      "source": [
        "# Informações do dataframe de departamentos.\n",
        "\n",
        "df_departments.info()\n",
        "print()\n",
        "print(df_departments.head())"
      ]
    },
    {
      "cell_type": "code",
      "execution_count": 16,
      "id": "a5d7de39",
      "metadata": {
        "id": "a5d7de39",
        "colab": {
          "base_uri": "https://localhost:8080/"
        },
        "outputId": "953f9573-297a-48d2-e3eb-29ade89c3b41"
      },
      "outputs": [
        {
          "output_type": "stream",
          "name": "stdout",
          "text": [
            "<class 'pandas.core.frame.DataFrame'>\n",
            "RangeIndex: 4545007 entries, 0 to 4545006\n",
            "Data columns (total 4 columns):\n",
            " #   Column             Dtype  \n",
            "---  ------             -----  \n",
            " 0   order_id           int64  \n",
            " 1   product_id         int64  \n",
            " 2   add_to_cart_order  float64\n",
            " 3   reordered          int64  \n",
            "dtypes: float64(1), int64(3)\n",
            "memory usage: 138.7 MB\n",
            "\n",
            "   order_id  product_id  add_to_cart_order  reordered\n",
            "0   2141543       11440               17.0          0\n",
            "1    567889        1560                1.0          1\n",
            "2   2261212       26683                1.0          1\n",
            "3    491251        8670               35.0          1\n",
            "4   2571142        1940                5.0          1\n"
          ]
        }
      ],
      "source": [
        "# Informações do dataframe de itens por pedido.\n",
        "\n",
        "df_order_products.info()\n",
        "print()\n",
        "print(df_order_products.head())"
      ]
    },
    {
      "cell_type": "markdown",
      "id": "f179f0a9",
      "metadata": {
        "id": "f179f0a9"
      },
      "source": [
        "### DataFrame `orders`"
      ]
    },
    {
      "cell_type": "code",
      "execution_count": 17,
      "id": "b99297a5-405a-463d-8535-9adc3da4ad74",
      "metadata": {
        "id": "b99297a5-405a-463d-8535-9adc3da4ad74",
        "colab": {
          "base_uri": "https://localhost:8080/"
        },
        "outputId": "26258c44-72c8-4f3e-e4f2-dd2e943ad654"
      },
      "outputs": [
        {
          "output_type": "stream",
          "name": "stdout",
          "text": [
            "15\n",
            "\n",
            "        order_id  user_id  order_number  order_dow  order_hour_of_day  \\\n",
            "354993    391768    57671            19          3                  2   \n",
            "371905    391768    57671            19          3                  2   \n",
            "119251    408114    68324             4          3                  2   \n",
            "321100    408114    68324             4          3                  2   \n",
            "394347    467134    63189            21          3                  2   \n",
            "250626    467134    63189            21          3                  2   \n",
            "99462     794638    50898            24          3                  2   \n",
            "145574    794638    50898            24          3                  2   \n",
            "311713   1021560    53767             3          3                  2   \n",
            "242618   1021560    53767             3          3                  2   \n",
            "164581   1112182   202304            84          3                  2   \n",
            "273805   1112182   202304            84          3                  2   \n",
            "314427   1286742   183220            48          3                  2   \n",
            "411408   1286742   183220            48          3                  2   \n",
            "266232   1782114   106752             1          3                  2   \n",
            "200059   1782114   106752             1          3                  2   \n",
            "230807   1918001   188546            14          3                  2   \n",
            "30371    1918001   188546            14          3                  2   \n",
            "257934   1919531   191501            32          3                  2   \n",
            "323900   1919531   191501            32          3                  2   \n",
            "441599   2125197    14050            48          3                  2   \n",
            "204042   2125197    14050            48          3                  2   \n",
            "223105   2160484   107525            16          3                  2   \n",
            "215294   2160484   107525            16          3                  2   \n",
            "324868   2232988    82565             1          3                  2   \n",
            "345917   2232988    82565             1          3                  2   \n",
            "415163   2282673    86751            49          3                  2   \n",
            "259636   2282673    86751            49          3                  2   \n",
            "142258   2845099    31189            11          3                  2   \n",
            "284038   2845099    31189            11          3                  2   \n",
            "\n",
            "        days_since_prior_order  \n",
            "354993                    10.0  \n",
            "371905                    10.0  \n",
            "119251                    18.0  \n",
            "321100                    18.0  \n",
            "394347                     2.0  \n",
            "250626                     2.0  \n",
            "99462                      2.0  \n",
            "145574                     2.0  \n",
            "311713                     9.0  \n",
            "242618                     9.0  \n",
            "164581                     6.0  \n",
            "273805                     6.0  \n",
            "314427                     4.0  \n",
            "411408                     4.0  \n",
            "266232                     NaN  \n",
            "200059                     NaN  \n",
            "230807                    16.0  \n",
            "30371                     16.0  \n",
            "257934                     7.0  \n",
            "323900                     7.0  \n",
            "441599                     3.0  \n",
            "204042                     3.0  \n",
            "223105                    30.0  \n",
            "215294                    30.0  \n",
            "324868                     NaN  \n",
            "345917                     NaN  \n",
            "415163                     2.0  \n",
            "259636                     2.0  \n",
            "142258                     7.0  \n",
            "284038                     7.0  \n"
          ]
        }
      ],
      "source": [
        " # Verificando se há pedidos duplicados\n",
        "\n",
        "print(df_orders.duplicated().sum())\n",
        "print()\n",
        "mask_duplicated = df_orders.duplicated(subset=['order_id'], keep=False)\n",
        "\n",
        "orders_duplicated = df_orders[mask_duplicated].sort_values(by='order_id')\n",
        "\n",
        "print(orders_duplicated)\n",
        "\n",
        "\n",
        "\n"
      ]
    },
    {
      "cell_type": "markdown",
      "id": "13549f57",
      "metadata": {
        "id": "13549f57"
      },
      "source": [
        "São 15 pedidos duplicados, o dia da semana e hora de todos eles são os mesmos."
      ]
    },
    {
      "cell_type": "code",
      "execution_count": 18,
      "id": "0d44de5d",
      "metadata": {
        "id": "0d44de5d",
        "colab": {
          "base_uri": "https://localhost:8080/"
        },
        "outputId": "dbfa38bf-867e-4afe-9070-53d7825306c2"
      },
      "outputs": [
        {
          "output_type": "stream",
          "name": "stdout",
          "text": [
            "        order_id  user_id  order_number  order_dow  order_hour_of_day  \\\n",
            "4838     2766110   162084            41          3                  2   \n",
            "5156     2190225   138285            18          3                  2   \n",
            "15506     553049    58599            13          3                  2   \n",
            "18420     382357   120200            19          3                  2   \n",
            "24691     690242    77357             2          3                  2   \n",
            "...          ...      ...           ...        ...                ...   \n",
            "457013   3384021    14881             6          3                  2   \n",
            "458816    910166   164782            18          3                  2   \n",
            "459635   1680532   106435             6          3                  2   \n",
            "468324    222962    54979            59          3                  2   \n",
            "477526   2592344    46860            38          3                  2   \n",
            "\n",
            "        days_since_prior_order  \n",
            "4838                      16.0  \n",
            "5156                      11.0  \n",
            "15506                      7.0  \n",
            "18420                     11.0  \n",
            "24691                      9.0  \n",
            "...                        ...  \n",
            "457013                    30.0  \n",
            "458816                     4.0  \n",
            "459635                    21.0  \n",
            "468324                     3.0  \n",
            "477526                     3.0  \n",
            "\n",
            "[121 rows x 6 columns]\n"
          ]
        }
      ],
      "source": [
        "# Verificando todos pedidos feitos na quarta feira, às 2h.\n",
        "\n",
        "\n",
        "df_orders_filtered = df_orders[(df_orders['order_dow'] == 3) & (df_orders['order_hour_of_day'] == 2)]\n",
        "\n",
        "print(df_orders_filtered)\n",
        "\n"
      ]
    },
    {
      "cell_type": "markdown",
      "id": "6b7f3719",
      "metadata": {
        "id": "6b7f3719"
      },
      "source": [
        ">Às 2 horas da quarta feira ocorreram 121 pedidos, no entanto, sabemos já que 15 são duplicados."
      ]
    },
    {
      "cell_type": "code",
      "execution_count": 19,
      "id": "480563c7",
      "metadata": {
        "id": "480563c7",
        "colab": {
          "base_uri": "https://localhost:8080/"
        },
        "outputId": "ff775e91-c2a0-4804-fa35-943cb16baad1"
      },
      "outputs": [
        {
          "output_type": "stream",
          "name": "stdout",
          "text": [
            "        order_id  user_id  order_number  order_dow  order_hour_of_day  \\\n",
            "0        1515936   183418            11          6                 13   \n",
            "1        1690866   163593             5          5                 12   \n",
            "2        1454967    39980             4          5                 19   \n",
            "3        1768857    82516            56          0                 20   \n",
            "4        3007858   196724             2          4                 12   \n",
            "...          ...      ...           ...        ...                ...   \n",
            "478962   3210681     5617             5          1                 14   \n",
            "478963   3270802   112087             2          3                 13   \n",
            "478964    885349    82944            16          2                 11   \n",
            "478965    216274     4391             3          3                  8   \n",
            "478966   2071924     1730            18          1                 14   \n",
            "\n",
            "        days_since_prior_order  \n",
            "0                         30.0  \n",
            "1                          9.0  \n",
            "2                          2.0  \n",
            "3                         10.0  \n",
            "4                         17.0  \n",
            "...                        ...  \n",
            "478962                     7.0  \n",
            "478963                     6.0  \n",
            "478964                     6.0  \n",
            "478965                     8.0  \n",
            "478966                    15.0  \n",
            "\n",
            "[478952 rows x 6 columns]\n"
          ]
        }
      ],
      "source": [
        "# Removendo pedidos duplicados\n",
        "\n",
        "df_orders = df_orders.drop_duplicates(subset='order_id')\n",
        "\n",
        "print(df_orders)\n",
        "\n"
      ]
    },
    {
      "cell_type": "code",
      "execution_count": 20,
      "id": "0b2396a2",
      "metadata": {
        "id": "0b2396a2",
        "colab": {
          "base_uri": "https://localhost:8080/"
        },
        "outputId": "c628fc86-12f2-46ff-d74d-f6dc9fc07b5a"
      },
      "outputs": [
        {
          "output_type": "stream",
          "name": "stdout",
          "text": [
            "0\n"
          ]
        }
      ],
      "source": [
        "# Verificando as linhas duplicadas mais uma vez\n",
        "\n",
        "print(df_orders.duplicated().sum())\n"
      ]
    },
    {
      "cell_type": "code",
      "execution_count": 21,
      "id": "f6113ef1",
      "metadata": {
        "id": "f6113ef1",
        "colab": {
          "base_uri": "https://localhost:8080/"
        },
        "outputId": "822bc9c0-dbdf-44fb-cd9b-8d28ff225c9d"
      },
      "outputs": [
        {
          "output_type": "stream",
          "name": "stdout",
          "text": [
            "order_id\n",
            "1515936    1\n",
            "2365274    1\n",
            "336622     1\n",
            "684027     1\n",
            "1115132    1\n",
            "          ..\n",
            "2578130    1\n",
            "1034057    1\n",
            "597364     1\n",
            "2142471    1\n",
            "2071924    1\n",
            "Name: count, Length: 478952, dtype: int64\n"
          ]
        }
      ],
      "source": [
        "# Verificando apenas os IDs de pedidos duplicados\n",
        "\n",
        "print(df_orders['order_id'].value_counts())\n"
      ]
    },
    {
      "cell_type": "markdown",
      "id": "2a7db0b1",
      "metadata": {
        "id": "2a7db0b1"
      },
      "source": [
        ">Eliminamos dados duplicados que provavelmente surgiram por um erro do sistema em determinada hora de um dia."
      ]
    },
    {
      "cell_type": "markdown",
      "id": "45e6bc46",
      "metadata": {
        "id": "45e6bc46"
      },
      "source": [
        "### DataFrame `products`"
      ]
    },
    {
      "cell_type": "code",
      "execution_count": 23,
      "id": "5f526b5b-8175-46fa-a0fd-441767d50e64",
      "metadata": {
        "id": "5f526b5b-8175-46fa-a0fd-441767d50e64",
        "colab": {
          "base_uri": "https://localhost:8080/"
        },
        "outputId": "923b7771-3b80-42e4-d5a6-8346b4eb95eb"
      },
      "outputs": [
        {
          "output_type": "stream",
          "name": "stdout",
          "text": [
            "0\n"
          ]
        }
      ],
      "source": [
        "# Verificando se há linhas completamente duplicadas\n",
        "\n",
        "df_products_duplicated = df_products.duplicated().sum()\n",
        "\n",
        "print(df_products_duplicated)\n"
      ]
    },
    {
      "cell_type": "code",
      "execution_count": 28,
      "id": "88daa4f4",
      "metadata": {
        "id": "88daa4f4",
        "colab": {
          "base_uri": "https://localhost:8080/"
        },
        "outputId": "1d1dd54a-e93b-4494-e209-1053c5c19d38"
      },
      "outputs": [
        {
          "output_type": "stream",
          "name": "stdout",
          "text": [
            "department_id\n",
            "11    False\n",
            "19    False\n",
            "13    False\n",
            "7     False\n",
            "1     False\n",
            "16    False\n",
            "17    False\n",
            "15    False\n",
            "9     False\n",
            "4     False\n",
            "3     False\n",
            "20    False\n",
            "21    False\n",
            "6     False\n",
            "14    False\n",
            "18    False\n",
            "5     False\n",
            "8     False\n",
            "12    False\n",
            "2     False\n",
            "10    False\n",
            "Name: count, dtype: bool\n"
          ]
        }
      ],
      "source": [
        "# Verificando apenas se há IDs de departamentos duplicados\n",
        "\n",
        "department_id = df_products['department_id'].value_counts()\n",
        "department_id = department_id.duplicated()\n",
        "\n",
        "print(department_id)\n"
      ]
    },
    {
      "cell_type": "code",
      "execution_count": 29,
      "id": "c773f0bf",
      "metadata": {
        "id": "c773f0bf",
        "colab": {
          "base_uri": "https://localhost:8080/"
        },
        "outputId": "9f6d338e-ac0c-4c62-828c-4c1ffaa2d7a7"
      },
      "outputs": [
        {
          "output_type": "stream",
          "name": "stdout",
          "text": [
            "product_name\n",
            "green tea with ginseng and honey                                        3\n",
            "carrot and celery sticks                                                2\n",
            "apricot energy bar                                                      2\n",
            "top the tater chive & onion sour cream                                  2\n",
            "proactive health indoor weight & hairball care with chicken cat food    2\n",
            "                                                                       ..\n",
            "all natural chicken apple sausage                                       1\n",
            "quartered artichoke hearts                                              1\n",
            "big eye ipa                                                             1\n",
            "unstopables lush                                                        1\n",
            "fresh foaming cleanser                                                  1\n",
            "Name: count, Length: 48332, dtype: int64\n"
          ]
        }
      ],
      "source": [
        "# Padronizando os nomes dos produtos\n",
        "\n",
        "\n",
        "df_products['product_name'] = df_products['product_name'].str.lower()\n",
        "\n",
        "print(df_products['product_name'].value_counts(ascending=False))\n"
      ]
    },
    {
      "cell_type": "code",
      "execution_count": 41,
      "id": "01efd02e",
      "metadata": {
        "id": "01efd02e",
        "colab": {
          "base_uri": "https://localhost:8080/"
        },
        "outputId": "2db85396-5773-492a-f7bc-e105647b846d"
      },
      "outputs": [
        {
          "output_type": "stream",
          "name": "stdout",
          "text": [
            "2058                                     biotin 1000 mcg\n",
            "5455                    green tea with ginseng and honey\n",
            "5558                              cream of mushroom soup\n",
            "7558                           cinnamon rolls with icing\n",
            "9037                              american cheese slices\n",
            "                              ...                       \n",
            "49689                      high performance energy drink\n",
            "49690                      original pancake & waffle mix\n",
            "49691    organic instant oatmeal light maple brown sugar\n",
            "49692                             spring water body wash\n",
            "49693                            burrito- steak & cheese\n",
            "Name: product_name, Length: 104, dtype: object\n",
            "\n",
            "1\n"
          ]
        }
      ],
      "source": [
        "# Verificando os nomes de produtos duplicados que não estão faltando\n",
        "\n",
        "duplicated_names = df_products[df_products.duplicated(subset='product_name') & ~df_products['product_name'].isnull()]['product_name']\n",
        "\n",
        "print(duplicated_names)\n",
        "num_duplicates = duplicated_names.duplicated().sum()\n",
        "print()\n",
        "print(num_duplicates)\n"
      ]
    },
    {
      "cell_type": "markdown",
      "id": "a115eaf6",
      "metadata": {
        "id": "a115eaf6"
      },
      "source": [
        "Não existem linhas totalmente iguais, mas existe um nome de produto duplicado, o que pode indicar que esse produto foi categorizado mais de uma vez em diferentes seções ou departamentos."
      ]
    },
    {
      "cell_type": "markdown",
      "id": "60f30db1",
      "metadata": {
        "id": "60f30db1"
      },
      "source": [
        "### DataFrame `departments`"
      ]
    },
    {
      "cell_type": "code",
      "execution_count": 40,
      "id": "fb410ad4-0fbf-4b80-bb09-23fdea79afe3",
      "metadata": {
        "id": "fb410ad4-0fbf-4b80-bb09-23fdea79afe3",
        "colab": {
          "base_uri": "https://localhost:8080/"
        },
        "outputId": "68a3857d-f951-4822-b278-c7b664024b13"
      },
      "outputs": [
        {
          "output_type": "stream",
          "name": "stdout",
          "text": [
            "0\n"
          ]
        }
      ],
      "source": [
        "# Verificando se há linhas completamente duplicadas\n",
        "\n",
        "df_departments_duplicated = df_departments.duplicated().sum()\n",
        "\n",
        "print(df_departments_duplicated)\n",
        "\n"
      ]
    },
    {
      "cell_type": "code",
      "execution_count": 33,
      "id": "332b12bb",
      "metadata": {
        "id": "332b12bb",
        "colab": {
          "base_uri": "https://localhost:8080/"
        },
        "outputId": "a3298e0c-96d9-4e00-90fc-d424f8177940"
      },
      "outputs": [
        {
          "output_type": "stream",
          "name": "stdout",
          "text": [
            "0\n"
          ]
        }
      ],
      "source": [
        "# Verificando apenas se há IDs dos produtos duplicados\n",
        "\n",
        "print(df_departments['department_id'].duplicated().sum())\n",
        "\n",
        "\n"
      ]
    },
    {
      "cell_type": "markdown",
      "id": "889349c1",
      "metadata": {
        "id": "889349c1"
      },
      "source": [
        "### DataFrame `aisles`"
      ]
    },
    {
      "cell_type": "code",
      "execution_count": 39,
      "id": "9da89fb9-4679-40f5-ad0d-c34df753a3f8",
      "metadata": {
        "id": "9da89fb9-4679-40f5-ad0d-c34df753a3f8",
        "colab": {
          "base_uri": "https://localhost:8080/"
        },
        "outputId": "7a3a8169-58b2-4dac-b7ef-4f86d3705d36"
      },
      "outputs": [
        {
          "output_type": "stream",
          "name": "stdout",
          "text": [
            "0\n"
          ]
        }
      ],
      "source": [
        "# Verificando se há linhas completamente duplicadas\n",
        "\n",
        "df_aisles_duplicated = df_aisles.duplicated()\n",
        "\n",
        "print(df_aisles_duplicated.sum())\n"
      ]
    },
    {
      "cell_type": "code",
      "execution_count": 36,
      "id": "da7c2822",
      "metadata": {
        "id": "da7c2822",
        "colab": {
          "base_uri": "https://localhost:8080/"
        },
        "outputId": "61e22ab3-4806-4306-f2e6-b32e21b9101f"
      },
      "outputs": [
        {
          "output_type": "stream",
          "name": "stdout",
          "text": [
            "0\n"
          ]
        }
      ],
      "source": [
        "# Verifique apenas se há IDs dos produtos duplicados\n",
        "\n",
        "print(df_aisles['aisle_id'].duplicated().sum())"
      ]
    },
    {
      "cell_type": "markdown",
      "id": "2b8926d5",
      "metadata": {
        "id": "2b8926d5"
      },
      "source": [
        ">São 134 seções, nenhuma duplicada."
      ]
    },
    {
      "cell_type": "markdown",
      "id": "274cd06a",
      "metadata": {
        "id": "274cd06a"
      },
      "source": [
        "### DataFrame `order_products`"
      ]
    },
    {
      "cell_type": "code",
      "execution_count": 38,
      "id": "52326689-84a8-4b8f-a881-7c68780f62c9",
      "metadata": {
        "id": "52326689-84a8-4b8f-a881-7c68780f62c9",
        "colab": {
          "base_uri": "https://localhost:8080/"
        },
        "outputId": "2dab56ca-4b42-4e8e-bef7-53cdc57f5446"
      },
      "outputs": [
        {
          "output_type": "stream",
          "name": "stdout",
          "text": [
            "0\n"
          ]
        }
      ],
      "source": [
        "# Verificando se há linhas completamente duplicadas\n",
        "\n",
        "df_order_products_duplicated = df_order_products.duplicated()\n",
        "\n",
        "print(df_order_products_duplicated.sum())\n"
      ]
    },
    {
      "cell_type": "code",
      "execution_count": null,
      "id": "7b861391",
      "metadata": {
        "id": "7b861391",
        "colab": {
          "base_uri": "https://localhost:8080/"
        },
        "outputId": "faa9d204-505b-41f0-acf4-770f00ee6258"
      },
      "outputs": [
        {
          "output_type": "stream",
          "name": "stdout",
          "text": [
            "61355      127\n",
            "3308010    115\n",
            "2136777    108\n",
            "171934     104\n",
            "1959075     98\n",
            "          ... \n",
            "3076918      1\n",
            "2499566      1\n",
            "556604       1\n",
            "171279       1\n",
            "1461911      1\n",
            "Name: order_id, Length: 450046, dtype: int64\n",
            "\n",
            "\n",
            "24852    66050\n",
            "13176    53297\n",
            "21137    37039\n",
            "21903    33971\n",
            "47209    29773\n",
            "         ...  \n",
            "47987        1\n",
            "26408        1\n",
            "24435        1\n",
            "36946        1\n",
            "40024        1\n",
            "Name: product_id, Length: 45573, dtype: int64\n"
          ]
        }
      ],
      "source": [
        "# Verifique mais uma vez se há outros casos complicados de duplicados\n",
        "\n",
        "print(df_order_products['order_id'].value_counts(ascending=False))\n",
        "print()\n",
        "print()\n",
        "print(df_order_products['product_id'].value_counts(ascending=False))"
      ]
    },
    {
      "cell_type": "markdown",
      "id": "0b890492",
      "metadata": {
        "id": "0b890492"
      },
      "source": [
        "Descreva brevemente suas conclusões e o que você fez com elas."
      ]
    },
    {
      "cell_type": "markdown",
      "id": "7aac5892",
      "metadata": {
        "id": "7aac5892"
      },
      "source": [
        ">Temos muitos 'order_id' e 'product_id' duplicados. Isso porque cada linha é um item dentro de um pedido. O maior pedido foi de 127 itens."
      ]
    },
    {
      "cell_type": "markdown",
      "id": "c0aebd78",
      "metadata": {
        "id": "c0aebd78"
      },
      "source": [
        "### DataFrame `products`"
      ]
    },
    {
      "cell_type": "code",
      "execution_count": 42,
      "id": "fe4a8b0f",
      "metadata": {
        "id": "fe4a8b0f",
        "colab": {
          "base_uri": "https://localhost:8080/"
        },
        "outputId": "1b87c0a7-ce35-40f9-ee97-de037f3d2c4e"
      },
      "outputs": [
        {
          "output_type": "stream",
          "name": "stdout",
          "text": [
            "       product_id product_name  aisle_id  department_id\n",
            "37             38          NaN       100             21\n",
            "71             72          NaN       100             21\n",
            "109           110          NaN       100             21\n",
            "296           297          NaN       100             21\n",
            "416           417          NaN       100             21\n",
            "...           ...          ...       ...            ...\n",
            "49552       49553          NaN       100             21\n",
            "49574       49575          NaN       100             21\n",
            "49640       49641          NaN       100             21\n",
            "49663       49664          NaN       100             21\n",
            "49668       49669          NaN       100             21\n",
            "\n",
            "[1258 rows x 4 columns]\n"
          ]
        }
      ],
      "source": [
        "# Verificando valores ausentes na coluna 'product_name'\n",
        "\n",
        "print(df_products[df_products['product_name'].isna()])"
      ]
    },
    {
      "cell_type": "markdown",
      "id": "1ca2d729",
      "metadata": {
        "id": "1ca2d729"
      },
      "source": [
        ">1.258 produtos sem nome no dataframe."
      ]
    },
    {
      "cell_type": "code",
      "execution_count": 43,
      "id": "e96167bc",
      "metadata": {
        "id": "e96167bc",
        "colab": {
          "base_uri": "https://localhost:8080/"
        },
        "outputId": "3e588cb5-ae64-4074-e3ee-ffae9370c1fe"
      },
      "outputs": [
        {
          "output_type": "stream",
          "name": "stdout",
          "text": [
            "       product_id  product_name  aisle_id  department_id\n",
            "37             38         False       100             21\n",
            "71             72         False       100             21\n",
            "109           110         False       100             21\n",
            "296           297         False       100             21\n",
            "416           417         False       100             21\n",
            "...           ...           ...       ...            ...\n",
            "49552       49553         False       100             21\n",
            "49574       49575         False       100             21\n",
            "49640       49641         False       100             21\n",
            "49663       49664         False       100             21\n",
            "49668       49669         False       100             21\n",
            "\n",
            "[1258 rows x 4 columns]\n"
          ]
        }
      ],
      "source": [
        "# Verificando se os nomes de produtos ausentes estão associados com a seção de ID 100\n",
        "\n",
        "df_nan_products = (df_products[df_products['product_name'].isna()]) & (df_products[df_products['aisle_id'] == 100])\n",
        "\n",
        "print(df_nan_products)"
      ]
    },
    {
      "cell_type": "code",
      "execution_count": 44,
      "id": "8fd0a541",
      "metadata": {
        "id": "8fd0a541",
        "colab": {
          "base_uri": "https://localhost:8080/"
        },
        "outputId": "c4783967-486e-43b7-f51c-474ff90cac25"
      },
      "outputs": [
        {
          "output_type": "stream",
          "name": "stdout",
          "text": [
            "       product_id  product_name  aisle_id  department_id\n",
            "37             38         False       100             21\n",
            "71             72         False       100             21\n",
            "109           110         False       100             21\n",
            "296           297         False       100             21\n",
            "416           417         False       100             21\n",
            "...           ...           ...       ...            ...\n",
            "49552       49553         False       100             21\n",
            "49574       49575         False       100             21\n",
            "49640       49641         False       100             21\n",
            "49663       49664         False       100             21\n",
            "49668       49669         False       100             21\n",
            "\n",
            "[1258 rows x 4 columns]\n"
          ]
        }
      ],
      "source": [
        "# Verificando se os nomes de produtos ausentes estão associados com o departamento de ID 21\n",
        "\n",
        "df_nan_products = (df_products[df_products['product_name'].isna()]) & (df_products[df_products['department_id'] == 21])\n",
        "\n",
        "print(df_nan_products)"
      ]
    },
    {
      "cell_type": "code",
      "execution_count": 45,
      "id": "325c3464",
      "metadata": {
        "id": "325c3464",
        "colab": {
          "base_uri": "https://localhost:8080/"
        },
        "outputId": "ea6c8781-7a6a-45d1-984d-a47c55d2c82f"
      },
      "outputs": [
        {
          "output_type": "stream",
          "name": "stdout",
          "text": [
            "Empty DataFrame\n",
            "Columns: [aisle_id, aisle]\n",
            "Index: []\n",
            "\n",
            "Empty DataFrame\n",
            "Columns: [department_id, department]\n",
            "Index: []\n"
          ]
        }
      ],
      "source": [
        "# Verificando os dados da seção ID 100 e do departamento ID 21.\n",
        "\n",
        "df_aisles_filtered = (df_aisles[df_aisles['aisle'] == 100])\n",
        "print(df_aisles_filtered)\n",
        "print()\n",
        "df_departments_filtered = df_departments[df_departments['department'] == 21]\n",
        "print(df_departments_filtered)\n"
      ]
    },
    {
      "cell_type": "markdown",
      "id": "3e622083",
      "metadata": {
        "id": "3e622083"
      },
      "source": [
        ">Não existe seção ID 100 no dataframe de seções e não existe departamento ID 21 no dataframe de departamentos."
      ]
    },
    {
      "cell_type": "code",
      "execution_count": 46,
      "id": "6b295120",
      "metadata": {
        "id": "6b295120",
        "colab": {
          "base_uri": "https://localhost:8080/"
        },
        "outputId": "b9bff765-071f-4946-eaba-c148e0e37af9"
      },
      "outputs": [
        {
          "output_type": "stream",
          "name": "stdout",
          "text": [
            "<class 'pandas.core.frame.DataFrame'>\n",
            "RangeIndex: 49694 entries, 0 to 49693\n",
            "Data columns (total 4 columns):\n",
            " #   Column         Non-Null Count  Dtype \n",
            "---  ------         --------------  ----- \n",
            " 0   product_id     49694 non-null  int64 \n",
            " 1   product_name   49694 non-null  object\n",
            " 2   aisle_id       49694 non-null  int64 \n",
            " 3   department_id  49694 non-null  int64 \n",
            "dtypes: int64(3), object(1)\n",
            "memory usage: 1.5+ MB\n"
          ]
        }
      ],
      "source": [
        "# Preenchendo nomes de produtos ausentes com 'Unknown'\n",
        "\n",
        "df_products['product_name'] = df_products['product_name'].fillna('Unknown')\n",
        "\n",
        "df_products.info()\n"
      ]
    },
    {
      "cell_type": "markdown",
      "id": "26b0b625",
      "metadata": {
        "id": "26b0b625"
      },
      "source": [
        ">Todos os produtos sem nomes foram catalogados em seções e departamentos inexistentes nos dataframes que listam as categorias destes."
      ]
    },
    {
      "cell_type": "markdown",
      "id": "7eb45c86",
      "metadata": {
        "id": "7eb45c86"
      },
      "source": [
        "### DataFrame `orders`"
      ]
    },
    {
      "cell_type": "code",
      "execution_count": 47,
      "id": "93e41d96",
      "metadata": {
        "id": "93e41d96",
        "colab": {
          "base_uri": "https://localhost:8080/"
        },
        "outputId": "c95468e2-4252-4d2c-dda5-400ef2121491"
      },
      "outputs": [
        {
          "output_type": "stream",
          "name": "stdout",
          "text": [
            "order_id                      0\n",
            "user_id                       0\n",
            "order_number                  0\n",
            "order_dow                     0\n",
            "order_hour_of_day             0\n",
            "days_since_prior_order    28817\n",
            "dtype: int64\n"
          ]
        }
      ],
      "source": [
        "# Verificando os valores ausentes\n",
        "\n",
        "print(df_orders.isna().sum())\n"
      ]
    },
    {
      "cell_type": "code",
      "execution_count": null,
      "id": "166e5a86",
      "metadata": {
        "id": "166e5a86",
        "colab": {
          "base_uri": "https://localhost:8080/"
        },
        "outputId": "92a7fa47-9dc1-42bf-bde0-63fdd62933f0"
      },
      "outputs": [
        {
          "output_type": "stream",
          "name": "stdout",
          "text": [
            "order_id                  0\n",
            "user_id                   0\n",
            "order_number              0\n",
            "order_dow                 0\n",
            "order_hour_of_day         0\n",
            "days_since_prior_order    0\n",
            "dtype: int64\n"
          ]
        }
      ],
      "source": [
        "# Há valores ausentes para os clientes que não estão fazendo o primeiro pedido?\n",
        "\n",
        "df_order_already = df_orders[df_orders['order_number'] > 1]\n",
        "\n",
        "print(df_order_already.isna().sum())"
      ]
    },
    {
      "cell_type": "code",
      "execution_count": null,
      "id": "c253a70b",
      "metadata": {
        "id": "c253a70b",
        "colab": {
          "base_uri": "https://localhost:8080/"
        },
        "outputId": "7f578c47-a272-49c3-90dd-00b78d13bd17"
      },
      "outputs": [
        {
          "output_type": "stream",
          "name": "stdout",
          "text": [
            "order_id                      0\n",
            "user_id                       0\n",
            "order_number                  0\n",
            "order_dow                     0\n",
            "order_hour_of_day             0\n",
            "days_since_prior_order    28817\n",
            "dtype: int64\n"
          ]
        }
      ],
      "source": [
        "# Tirando prova real que os 5 valores ausentes referente a quantos dias passaram entre pedidos\n",
        "#são em primeiros pedidos de clientes.\n",
        "\n",
        "df_order_new = df_orders[df_orders['order_number'] == 1]\n",
        "\n",
        "print(df_order_new.isna().sum())"
      ]
    },
    {
      "cell_type": "markdown",
      "id": "d0f2285a",
      "metadata": {
        "id": "d0f2285a"
      },
      "source": [
        "A coluna 'days_since_prior_order' tem valores ausentes quando está registrando um primeiro pedido."
      ]
    },
    {
      "cell_type": "markdown",
      "id": "69dc9ca4",
      "metadata": {
        "id": "69dc9ca4"
      },
      "source": [
        "### DataFrame `order_products`"
      ]
    },
    {
      "cell_type": "code",
      "execution_count": 48,
      "id": "b8240253",
      "metadata": {
        "id": "b8240253",
        "scrolled": true,
        "colab": {
          "base_uri": "https://localhost:8080/"
        },
        "outputId": "380192d1-9029-40e5-f220-e3f59c35df9d"
      },
      "outputs": [
        {
          "output_type": "stream",
          "name": "stdout",
          "text": [
            "order_id               0\n",
            "product_id             0\n",
            "add_to_cart_order    836\n",
            "reordered              0\n",
            "dtype: int64\n"
          ]
        }
      ],
      "source": [
        "# Verificando os valores ausentes\n",
        "\n",
        "print(df_order_products.isna().sum())"
      ]
    },
    {
      "cell_type": "code",
      "execution_count": 50,
      "id": "9a78e5ee",
      "metadata": {
        "id": "9a78e5ee",
        "colab": {
          "base_uri": "https://localhost:8080/"
        },
        "outputId": "ed624539-88b8-4123-9973-d79bb1919555"
      },
      "outputs": [
        {
          "output_type": "stream",
          "name": "stdout",
          "text": [
            "1.0\n",
            "64.0\n"
          ]
        }
      ],
      "source": [
        "# Os valores mínimo e máximo dessa coluna\n",
        "\n",
        "print(df_order_products['add_to_cart_order'].min())\n",
        "print(df_order_products['add_to_cart_order'].max())"
      ]
    },
    {
      "cell_type": "markdown",
      "id": "f7acec0e",
      "metadata": {
        "id": "f7acec0e"
      },
      "source": [
        ">A coluna 'add_to_cart_order' tem 836 valores ausentes. Sendo 64 o número máximo dela, sabemos que o pedido com itens tem 64 produtos."
      ]
    },
    {
      "cell_type": "code",
      "execution_count": 51,
      "id": "ab9d0c2b",
      "metadata": {
        "id": "ab9d0c2b",
        "colab": {
          "base_uri": "https://localhost:8080/"
        },
        "outputId": "c038c641-bf54-405c-86de-024661f2d451"
      },
      "outputs": [
        {
          "output_type": "stream",
          "name": "stdout",
          "text": [
            "         order_id  product_id  add_to_cart_order  reordered\n",
            "737       2449164        5068                NaN          0\n",
            "9926      1968313       43867                NaN          0\n",
            "14394     2926893       11688                NaN          0\n",
            "16418     1717990        4142                NaN          0\n",
            "30114     1959075       42828                NaN          1\n",
            "...           ...         ...                ...        ...\n",
            "4505662   1800005        7411                NaN          0\n",
            "4511400   1633337         260                NaN          0\n",
            "4517562    404157        9517                NaN          0\n",
            "4534112   1673227       17835                NaN          0\n",
            "4535739   1832957       17949                NaN          1\n",
            "\n",
            "[836 rows x 4 columns]\n"
          ]
        }
      ],
      "source": [
        "# Salvando todos os IDs dos pedidos com pelo menos um valor ausente em 'add_to_cart_order'\n",
        "\n",
        "no_order_ids = df_order_products[df_order_products['add_to_cart_order'].isna()]\n",
        "\n",
        "print(no_order_ids)"
      ]
    },
    {
      "cell_type": "code",
      "execution_count": 52,
      "id": "54c31695",
      "metadata": {
        "id": "54c31695",
        "colab": {
          "base_uri": "https://localhost:8080/"
        },
        "outputId": "3e74ddbd-b2b5-4ce8-d7c8-123f0f37272c"
      },
      "outputs": [
        {
          "output_type": "stream",
          "name": "stdout",
          "text": [
            "order_id\n",
            "61355      63\n",
            "3308010    51\n",
            "2136777    44\n",
            "171934     40\n",
            "1959075    34\n",
            "           ..\n",
            "888470      1\n",
            "1598369     1\n",
            "747668      1\n",
            "1677118     1\n",
            "9310        1\n",
            "Name: product_id, Length: 70, dtype: int64\n"
          ]
        }
      ],
      "source": [
        "# Conferindo os pedidos com valores ausentes.\n",
        "\n",
        "\n",
        "print(no_order_ids.groupby('order_id')['product_id'].count().sort_values(ascending=False))"
      ]
    },
    {
      "cell_type": "markdown",
      "id": "53668ba7",
      "metadata": {
        "id": "53668ba7"
      },
      "source": [
        "Dos pedidos com valores ausentes, o que contém maior quantidade de produtos tem 63 itens."
      ]
    },
    {
      "cell_type": "code",
      "execution_count": 53,
      "id": "7a987d08",
      "metadata": {
        "id": "7a987d08",
        "colab": {
          "base_uri": "https://localhost:8080/"
        },
        "outputId": "25cb2cb1-c64c-48e6-f6b7-240075659f13"
      },
      "outputs": [
        {
          "output_type": "stream",
          "name": "stdout",
          "text": [
            "order_id             0\n",
            "product_id           0\n",
            "add_to_cart_order    0\n",
            "reordered            0\n",
            "dtype: int64\n",
            "\n",
            "<class 'pandas.core.frame.DataFrame'>\n",
            "RangeIndex: 4545007 entries, 0 to 4545006\n",
            "Data columns (total 4 columns):\n",
            " #   Column             Dtype\n",
            "---  ------             -----\n",
            " 0   order_id           int64\n",
            " 1   product_id         int64\n",
            " 2   add_to_cart_order  int64\n",
            " 3   reordered          int64\n",
            "dtypes: int64(4)\n",
            "memory usage: 138.7 MB\n"
          ]
        }
      ],
      "source": [
        "# Substituindo valores ausentes na coluna 'add_to_cart_order' por 999 e converta a coluna para o tipo integer\n",
        "\n",
        "df_order_products['add_to_cart_order'] = df_order_products['add_to_cart_order'].fillna('999').astype(int)\n",
        "\n",
        "print(df_order_products.isna().sum())\n",
        "print()\n",
        "df_order_products.info()"
      ]
    },
    {
      "cell_type": "markdown",
      "id": "db047495",
      "metadata": {
        "id": "db047495"
      },
      "source": [
        ">Preenchemos valores ausentes com um número padrão que não irá confundir com os valores categóricos que temos já nos informando a ordem dos outros itens em cada pedido."
      ]
    },
    {
      "cell_type": "markdown",
      "id": "87703453",
      "metadata": {
        "id": "87703453"
      },
      "source": [
        "Até aqui foi realizada limpeza dos dados e preparamos eles para analisarmos com mais segurança as informações."
      ]
    },
    {
      "cell_type": "markdown",
      "id": "short-capability",
      "metadata": {
        "id": "short-capability"
      },
      "source": [
        "### Conferindo informações\n",
        "\n"
      ]
    },
    {
      "cell_type": "code",
      "execution_count": 54,
      "id": "growing-fruit",
      "metadata": {
        "id": "growing-fruit",
        "colab": {
          "base_uri": "https://localhost:8080/"
        },
        "outputId": "cccadee0-1509-47d0-8e53-aa925d76c617"
      },
      "outputs": [
        {
          "output_type": "stream",
          "name": "stdout",
          "text": [
            "0\n",
            "23\n"
          ]
        }
      ],
      "source": [
        "# Conferindo os valores referentes às horas do dia\n",
        "\n",
        "print(df_orders['order_hour_of_day'].min())\n",
        "print(df_orders['order_hour_of_day'].max())"
      ]
    },
    {
      "cell_type": "code",
      "execution_count": 55,
      "id": "accessory-malaysia",
      "metadata": {
        "id": "accessory-malaysia",
        "colab": {
          "base_uri": "https://localhost:8080/"
        },
        "outputId": "e34f129b-92ea-42dd-fbe7-dac5645168b5"
      },
      "outputs": [
        {
          "output_type": "stream",
          "name": "stdout",
          "text": [
            "0\n",
            "6\n"
          ]
        }
      ],
      "source": [
        "# Conferindo os valores refeentes aos dias da semana\n",
        "\n",
        "print(df_orders['order_dow'].min())\n",
        "print(df_orders['order_dow'].max())"
      ]
    },
    {
      "cell_type": "markdown",
      "id": "a6743a70",
      "metadata": {
        "id": "a6743a70"
      },
      "source": [
        "### Analisando pedidos por hora do dia"
      ]
    },
    {
      "cell_type": "code",
      "execution_count": 58,
      "id": "a36cca27",
      "metadata": {
        "id": "a36cca27",
        "colab": {
          "base_uri": "https://localhost:8080/",
          "height": 497
        },
        "outputId": "aedc44c6-01ac-4d80-ee96-5860b709f9e0"
      },
      "outputs": [
        {
          "output_type": "execute_result",
          "data": {
            "text/plain": [
              "<Axes: title={'center': 'Pedidos por hora'}, xlabel='Hora do dia', ylabel='Pedidos'>"
            ]
          },
          "metadata": {},
          "execution_count": 58
        },
        {
          "output_type": "display_data",
          "data": {
            "text/plain": [
              "<Figure size 640x480 with 1 Axes>"
            ],
            "image/png": "[encoded data removed]"
          },
          "metadata": {}
        }
      ],
      "source": [
        "# Gráfico com os pedidos por hora do dia\n",
        "\n",
        "orders_per_hour = df_orders.groupby('order_hour_of_day')['user_id'].count()\n",
        "\n",
        "orders_per_hour.plot(kind='bar', title='Pedidos por hora', xlabel='Hora do dia', ylabel='Pedidos', rot= 45)\n",
        "\n",
        "\n"
      ]
    },
    {
      "cell_type": "markdown",
      "id": "bec49c37",
      "metadata": {
        "id": "bec49c37"
      },
      "source": [
        "Das 09h às 16h ocorrem a maioria dos pedidos."
      ]
    },
    {
      "cell_type": "markdown",
      "id": "documented-command",
      "metadata": {
        "id": "documented-command"
      },
      "source": [
        "### Em que dia da semana as pessoas fazem compras?"
      ]
    },
    {
      "cell_type": "code",
      "execution_count": 57,
      "id": "0dd9e69b",
      "metadata": {
        "id": "0dd9e69b",
        "colab": {
          "base_uri": "https://localhost:8080/",
          "height": 530
        },
        "outputId": "91964d65-4388-4f93-c0ec-ee83a3d62c99"
      },
      "outputs": [
        {
          "output_type": "execute_result",
          "data": {
            "text/plain": [
              "<Axes: title={'center': 'Pedidos por dia da semana'}, xlabel='Dia da semana', ylabel='Pedidos'>"
            ]
          },
          "metadata": {},
          "execution_count": 57
        },
        {
          "output_type": "display_data",
          "data": {
            "text/plain": [
              "<Figure size 640x480 with 1 Axes>"
            ],
            "image/png": "[encoded data removed]"
          },
          "metadata": {}
        }
      ],
      "source": [
        "# Pedidos por dia da semana\n",
        "\n",
        "days_of_week = {0: 'domingo', 1: 'segunda', 2 : 'terça', 3 : 'quarta', 4 : 'quinta', 5 : 'sexta', 6 : 'sábado'}\n",
        "\n",
        "df_orders['order_dow'] = df_orders['order_dow'].replace(days_of_week)\n",
        "\n",
        "orders_per_day = df_orders.groupby('order_dow')['user_id'].count()\n",
        "\n",
        "days_order = ['domingo', 'segunda', 'terça', 'quarta', 'quinta', 'sexta', 'sábado']\n",
        "\n",
        "orders_per_day = orders_per_day.reindex(days_order)\n",
        "\n",
        "orders_per_day.plot(kind='bar', title='Pedidos por dia da semana', xlabel='Dia da semana', ylabel='Pedidos', rot= 50)\n",
        "\n",
        "\n"
      ]
    },
    {
      "cell_type": "markdown",
      "id": "a357408c",
      "metadata": {
        "id": "a357408c"
      },
      "source": [
        "Domingo e segunda concentram mais pedidos."
      ]
    },
    {
      "cell_type": "markdown",
      "id": "cutting-concert",
      "metadata": {
        "id": "cutting-concert"
      },
      "source": [
        "### Quanto tempo as pessoas esperam até fazer outro pedido?"
      ]
    },
    {
      "cell_type": "code",
      "execution_count": 59,
      "id": "gMOIimGd5VNb",
      "metadata": {
        "id": "gMOIimGd5VNb",
        "colab": {
          "base_uri": "https://localhost:8080/",
          "height": 473
        },
        "outputId": "956e617b-369e-40ad-887e-729a33df6702"
      },
      "outputs": [
        {
          "output_type": "display_data",
          "data": {
            "text/plain": [
              "<Figure size 640x480 with 1 Axes>"
            ],
            "image/png": "[encoded data removed]"
          },
          "metadata": {}
        }
      ],
      "source": [
        "# Intervalo entre pedidos\n",
        "\n",
        "plt.hist(df_orders['days_since_prior_order'], bins=30)\n",
        "\n",
        "plt.title('Distribuição dos dias desde o último pedido')\n",
        "plt.xlabel('Dias desde o último pedido')\n",
        "plt.ylabel('Número de pedidos')\n",
        "\n",
        "plt.show()"
      ]
    },
    {
      "cell_type": "markdown",
      "id": "9f4b1608",
      "metadata": {
        "id": "9f4b1608"
      },
      "source": [
        "Há um padrão de frequência de pedidos semanais e mensais."
      ]
    },
    {
      "cell_type": "markdown",
      "id": "packed-classic",
      "metadata": {
        "id": "packed-classic"
      },
      "source": [
        "### Diferenças nas quartas e sábados em `'order_hour_of_day'`."
      ]
    },
    {
      "cell_type": "code",
      "execution_count": 62,
      "id": "797c90a8",
      "metadata": {
        "id": "797c90a8",
        "colab": {
          "base_uri": "https://localhost:8080/",
          "height": 481
        },
        "outputId": "39ff4caa-8bf3-40f3-a3a7-7a431106a578"
      },
      "outputs": [
        {
          "output_type": "display_data",
          "data": {
            "text/plain": [
              "<Figure size 640x480 with 1 Axes>"
            ],
            "image/png": "[encoded data removed]"
          },
          "metadata": {}
        }
      ],
      "source": [
        "# Pedidos por hora às quarta-feiras\n",
        "\n",
        "df_orders_wed = df_orders[df_orders['order_dow'] == 'quarta']\n",
        "\n",
        "orders_wed = df_orders_wed.groupby('order_hour_of_day')['user_id'].count()\n",
        "\n",
        "orders_wed.plot(kind='bar',\n",
        "                              title='Pedidos por hora às quartas',\n",
        "                              xlabel='Hora do dia',\n",
        "                              ylabel='Pedidos',\n",
        "                              rot=50)\n",
        "\n",
        "plt.show()"
      ]
    },
    {
      "cell_type": "code",
      "execution_count": 63,
      "id": "35bcea30",
      "metadata": {
        "id": "35bcea30",
        "colab": {
          "base_uri": "https://localhost:8080/",
          "height": 481
        },
        "outputId": "e56471bf-80c4-472f-b52d-f033f7a00980"
      },
      "outputs": [
        {
          "output_type": "display_data",
          "data": {
            "text/plain": [
              "<Figure size 640x480 with 1 Axes>"
            ],
            "image/png": "[encoded data removed]"
          },
          "metadata": {}
        }
      ],
      "source": [
        "# Pedidos por hora aos sábados\n",
        "\n",
        "df_orders_sat = df_orders[df_orders['order_dow'] == 'sábado']\n",
        "\n",
        "orders_sat = df_orders_sat.groupby('order_hour_of_day')['user_id'].count()\n",
        "\n",
        "orders_sat.plot(kind='bar',\n",
        "                              title='Pedidos por hora aos sábados',\n",
        "                              xlabel='Hora do dia',\n",
        "                              ylabel='Pedidos',\n",
        "                              rot=50)\n",
        "\n",
        "plt.show()"
      ]
    },
    {
      "cell_type": "code",
      "execution_count": 64,
      "id": "d89b8403",
      "metadata": {
        "id": "d89b8403",
        "colab": {
          "base_uri": "https://localhost:8080/",
          "height": 481
        },
        "outputId": "cded591d-15d9-44ef-f1fb-6859000211c3"
      },
      "outputs": [
        {
          "output_type": "display_data",
          "data": {
            "text/plain": [
              "<Figure size 640x480 with 1 Axes>"
            ],
            "image/png": "[encoded data removed]"
          },
          "metadata": {}
        }
      ],
      "source": [
        "# Comparação dos gráficos anteriores\n",
        "\n",
        "df_orders_wed = df_orders[df_orders['order_dow'] == 'quarta']\n",
        "\n",
        "orders_wed = df_orders_wed.groupby('order_hour_of_day')['user_id'].count()\n",
        "\n",
        "df_orders_sat = df_orders[df_orders['order_dow'] == 'sábado']\n",
        "\n",
        "orders_sat = df_orders_sat.groupby('order_hour_of_day')['user_id'].count()\n",
        "\n",
        "plt.bar(orders_wed.index, orders_wed.values, label='Quartas-feiras', alpha=0.7)\n",
        "\n",
        "# Plotar os pedidos aos sábados\n",
        "plt.bar(orders_sat.index, orders_sat.values, label='Sábados', alpha=0.7)\n",
        "\n",
        "plt.title('Pedidos por hora às quartas-feiras e aos sábados')\n",
        "plt.xlabel('Hora do dia')\n",
        "plt.ylabel('Pedidos')\n",
        "plt.xticks(rotation=50)\n",
        "plt.legend()\n",
        "\n",
        "plt.show()"
      ]
    },
    {
      "cell_type": "markdown",
      "id": "9cdc10b3",
      "metadata": {
        "id": "9cdc10b3"
      },
      "source": [
        ">A quantidade de pedidos tem uma distribuição ao longo do dia muito parecida entre quarta e sábado, mas sábado tem mais pedidos perto do meio dia."
      ]
    },
    {
      "cell_type": "markdown",
      "id": "e3891143",
      "metadata": {
        "id": "e3891143"
      },
      "source": [
        "###  Qual é a distribuição do número de pedidos por cliente?"
      ]
    },
    {
      "cell_type": "code",
      "execution_count": 65,
      "id": "00e69a66",
      "metadata": {
        "id": "00e69a66",
        "colab": {
          "base_uri": "https://localhost:8080/",
          "height": 473
        },
        "outputId": "763b26cf-7d30-4b8b-a615-c44a05e44473"
      },
      "outputs": [
        {
          "output_type": "display_data",
          "data": {
            "text/plain": [
              "<Figure size 640x480 with 1 Axes>"
            ],
            "image/png": "[encoded data removed]"
          },
          "metadata": {}
        }
      ],
      "source": [
        "# Verificando quantos pedidos os clientes fazem\n",
        "\n",
        "\n",
        "orders_per_client = df_orders.groupby('user_id')['order_number'].count()\n",
        "\n",
        "\n",
        "plt.hist(orders_per_client, bins=15)\n",
        "plt.title('Distribuição do número de pedidos por cliente')\n",
        "plt.xlabel('Número de pedidos')\n",
        "plt.ylabel('Número de clientes')\n",
        "plt.show()"
      ]
    },
    {
      "cell_type": "markdown",
      "source": [
        ">Aproximadamente 1/5 dos clientes que fizeram compra pela primeira vez, chegaram a uma terceira compra. Quarta compra em diante cai ainda mais a recorrência."
      ],
      "metadata": {
        "id": "ICurXW4KJRO8"
      },
      "id": "ICurXW4KJRO8"
    },
    {
      "cell_type": "markdown",
      "id": "54a0319c",
      "metadata": {
        "id": "54a0319c"
      },
      "source": [
        "### Quais são os 20 produtos mais populares?"
      ]
    },
    {
      "cell_type": "code",
      "execution_count": 66,
      "id": "exterior-arizona",
      "metadata": {
        "id": "exterior-arizona",
        "scrolled": true,
        "colab": {
          "base_uri": "https://localhost:8080/"
        },
        "outputId": "926cb09d-0c1f-48a8-95a6-ae355223bf13"
      },
      "outputs": [
        {
          "output_type": "stream",
          "name": "stdout",
          "text": [
            "       product_id              product_name  aisle_id  department_id\n",
            "5875         5876             organic lemon        24              4\n",
            "8276         8277  apple honeycrisp organic        24              4\n",
            "13175       13176    bag of organic bananas        24              4\n",
            "16796       16797              strawberries        24              4\n",
            "21136       21137      organic strawberries        24              4\n",
            "21902       21903      organic baby spinach       123              4\n",
            "22934       22935      organic yellow onion        83              4\n",
            "24851       24852                    banana        24              4\n",
            "24963       24964            organic garlic        83              4\n",
            "26208       26209                     limes        24              4\n",
            "27844       27845        organic whole milk        84             16\n",
            "27965       27966       organic raspberries       123              4\n",
            "28203       28204        organic fuji apple        24              4\n",
            "39274       39275       organic blueberries       123              4\n",
            "40705       40706    organic grape tomatoes       123              4\n",
            "45006       45007          organic zucchini        83              4\n",
            "47208       47209      organic hass avocado        24              4\n",
            "47625       47626               large lemon        24              4\n",
            "47765       47766           organic avocado        24              4\n",
            "49682       49683            cucumber kirby        83              4\n"
          ]
        }
      ],
      "source": [
        "# Verificando os produtos mais comprados\n",
        "\n",
        "popular_products = df_order_products['product_id'].value_counts()\n",
        "\n",
        "top_20_products = popular_products.head(20).index\n",
        "\n",
        "df_20_products = df_products[df_products['product_id'].isin(top_20_products)]\n",
        "\n",
        "print(df_20_products)"
      ]
    },
    {
      "cell_type": "markdown",
      "source": [
        ">Esses são os 20 itens mais pedidos, a grande maioria do departamento 4 e orgânicos."
      ],
      "metadata": {
        "id": "kRTUp2mMaNp2"
      },
      "id": "kRTUp2mMaNp2"
    },
    {
      "cell_type": "markdown",
      "id": "romantic-deposit",
      "metadata": {
        "id": "romantic-deposit"
      },
      "source": [
        "### Quantos itens as pessoas normalmente compram em um pedido? Como fica a distribuição?"
      ]
    },
    {
      "cell_type": "code",
      "execution_count": 68,
      "id": "virtual-punch",
      "metadata": {
        "id": "virtual-punch",
        "colab": {
          "base_uri": "https://localhost:8080/"
        },
        "outputId": "35a5bb56-e7c8-43b9-b1b2-5e24460f678a"
      },
      "outputs": [
        {
          "output_type": "stream",
          "name": "stdout",
          "text": [
            "10.098983215049127\n"
          ]
        }
      ],
      "source": [
        "# Média de produtos por pedido\n",
        "\n",
        "products_per_order = df_order_products.groupby(by='order_id')['product_id'].count()\n",
        "\n",
        "avg_products_per_order = products_per_order.mean()\n",
        "\n",
        "print(avg_products_per_order)"
      ]
    },
    {
      "cell_type": "code",
      "execution_count": 69,
      "id": "sensitive-breathing",
      "metadata": {
        "id": "sensitive-breathing",
        "colab": {
          "base_uri": "https://localhost:8080/",
          "height": 473
        },
        "outputId": "10233a4a-71cd-4a6c-be51-92b555713caf"
      },
      "outputs": [
        {
          "output_type": "display_data",
          "data": {
            "text/plain": [
              "<Figure size 640x480 with 1 Axes>"
            ],
            "image/png": "[encoded data removed]"
          },
          "metadata": {}
        }
      ],
      "source": [
        "# Distribuição de quantidade de itens por pedido\n",
        "\n",
        "plt.hist(products_per_order, bins=30)\n",
        "plt.title('Distribuição do número de produtos por pedido')\n",
        "plt.xlabel('Número de produtos por pedido')\n",
        "plt.ylabel('Frequência')\n",
        "plt.show()"
      ]
    },
    {
      "cell_type": "markdown",
      "source": [
        ">A média de itens por pedidos é 10.09. Pouquíssimos pedidos acima de 40 itens."
      ],
      "metadata": {
        "id": "InmhG2N1ggOA"
      },
      "id": "InmhG2N1ggOA"
    },
    {
      "cell_type": "markdown",
      "id": "92d35137",
      "metadata": {
        "id": "92d35137"
      },
      "source": [
        "### Quais são os 20 principais itens que as pessoas colocam nos carrinhos antes de todos os outros?"
      ]
    },
    {
      "cell_type": "code",
      "execution_count": 70,
      "id": "0ae57274",
      "metadata": {
        "id": "0ae57274",
        "scrolled": true,
        "colab": {
          "base_uri": "https://localhost:8080/"
        },
        "outputId": "12c5118f-5fc5-4c00-94f6-9073b06a0f7a"
      },
      "outputs": [
        {
          "output_type": "stream",
          "name": "stdout",
          "text": [
            "             order_id  add_to_cart_order  reordered\n",
            "product_id                                         \n",
            "23940        237354.0                1.0        0.0\n",
            "25973       1021500.0                1.0        1.0\n",
            "46571       2401419.0                1.0        0.0\n",
            "3165        3158388.0                1.0        0.0\n",
            "17274       2729690.0                1.0        0.0\n",
            "18833       2161544.0                1.0        0.0\n",
            "27409       2332844.0                1.0        0.0\n",
            "13279        479333.0                1.0        0.0\n",
            "42597       2283360.0                1.0        0.0\n",
            "24172       1399102.0                1.0        0.0\n",
            "8019        2708608.0                1.0        0.0\n",
            "5066        2674593.0                1.0        1.0\n",
            "9873        3121159.0                1.0        0.0\n",
            "42628        598921.0                1.0        0.0\n",
            "11051       3295067.0                1.0        0.0\n",
            "36720       1071518.0                1.0        0.0\n",
            "24252        891116.0                1.0        0.0\n",
            "8973         887081.0                1.0        0.0\n",
            "16453       1028891.0                1.0        0.0\n",
            "14818       1976929.0                1.0        1.0\n"
          ]
        }
      ],
      "source": [
        "# Produtos selecionados por primeiro\n",
        "\n",
        "first_products = df_order_products.groupby('product_id').mean()\n",
        "\n",
        "first_20_products = first_products.sort_values(by='add_to_cart_order', ascending = True)\n",
        "\n",
        "print(first_20_products.head(20))"
      ]
    },
    {
      "cell_type": "code",
      "execution_count": 71,
      "id": "forty-netherlands",
      "metadata": {
        "id": "forty-netherlands",
        "scrolled": true,
        "colab": {
          "base_uri": "https://localhost:8080/"
        },
        "outputId": "9f8b0514-d91c-46f4-d6c2-d83503ef7b42"
      },
      "outputs": [
        {
          "output_type": "stream",
          "name": "stdout",
          "text": [
            "    product_id   order_id  add_to_cart_order  reordered  \\\n",
            "0        23940   237354.0                1.0        0.0   \n",
            "1        25973  1021500.0                1.0        1.0   \n",
            "2        46571  2401419.0                1.0        0.0   \n",
            "3         3165  3158388.0                1.0        0.0   \n",
            "4        17274  2729690.0                1.0        0.0   \n",
            "5        18833  2161544.0                1.0        0.0   \n",
            "6        27409  2332844.0                1.0        0.0   \n",
            "7        13279   479333.0                1.0        0.0   \n",
            "8        42597  2283360.0                1.0        0.0   \n",
            "9        24172  1399102.0                1.0        0.0   \n",
            "10        8019  2708608.0                1.0        0.0   \n",
            "11        5066  2674593.0                1.0        1.0   \n",
            "12        9873  3121159.0                1.0        0.0   \n",
            "13       42628   598921.0                1.0        0.0   \n",
            "14       11051  3295067.0                1.0        0.0   \n",
            "15       36720  1071518.0                1.0        0.0   \n",
            "16       24252   891116.0                1.0        0.0   \n",
            "17        8973   887081.0                1.0        0.0   \n",
            "18       16453  1028891.0                1.0        0.0   \n",
            "19       14818  1976929.0                1.0        1.0   \n",
            "\n",
            "                                         product_name  aisle_id  department_id  \n",
            "0                                             Unknown       100             21  \n",
            "1                assortment bittersweet chocolate box        45             19  \n",
            "2                      more milk plus herbal capsules        47             11  \n",
            "3        sea salt toffee 31% cacao milk chocolate bar        45             19  \n",
            "4                active naturals shampoo pure renewal        22             11  \n",
            "5                           dark chocolate egg matzos        33              6  \n",
            "6                                    blue writing gel        97             13  \n",
            "7   fruitables fruit & vegetable juice strawbery kiwi        98              7  \n",
            "8                 folic acid 800 mg vegetable capsule        47             11  \n",
            "9                      savory seafood dinner cat food        41              8  \n",
            "10                  raw milk monterrey jacques cheese         2             16  \n",
            "11            2\\\" x 6\\\" unscented white pillar candle       101             17  \n",
            "12                                       whole turkey        49             12  \n",
            "13                     garlic white wine shrimp saute        34              1  \n",
            "14       everyone aromatherapy essential oil diffuser       133             11  \n",
            "15                                         chopsticks        10             17  \n",
            "16                            sweet basil leaf flakes       104             13  \n",
            "17                            sausage pepperoni pizza        79              1  \n",
            "18                                   original gummies        45             19  \n",
            "19        pm simply sleep nighttime sleep aid caplets         6              2  \n"
          ]
        }
      ],
      "source": [
        "# Adicionando informação do nome dos produtos\n",
        "\n",
        "merge_product_name = pd.merge(first_20_products, df_products, on= 'product_id')\n",
        "\n",
        "print(merge_product_name.head(20))"
      ]
    },
    {
      "cell_type": "markdown",
      "source": [
        ">Esses são os 20 produtos recorrentemente adicionados por primeiro nos pedidos."
      ],
      "metadata": {
        "id": "nRAoblzEd7Qv"
      },
      "id": "nRAoblzEd7Qv"
    },
    {
      "cell_type": "markdown",
      "id": "TisH_5Cp3wAi",
      "metadata": {
        "id": "TisH_5Cp3wAi"
      },
      "source": [
        "# Conclusão geral do projeto:"
      ]
    },
    {
      "cell_type": "markdown",
      "source": [
        ">Com as informações levantadas é possível traçar planejamentos de vendas e marketing mais acertados, tendo em vista que vimos aqui produtos populares, produtos preferidos, padrões de dias e horas em que ocorrem os pedidos, frequência de pedidos."
      ],
      "metadata": {
        "id": "Fce-eIODg7PX"
      },
      "id": "Fce-eIODg7PX"
    }
  ],
  "metadata": {
    "colab": {
      "provenance": [],
      "toc_visible": true,
      "include_colab_link": true
    },
    "kernelspec": {
      "display_name": "Python 3 (ipykernel)",
      "language": "python",
      "name": "python3"
    },
    "language_info": {
      "codemirror_mode": {
        "name": "ipython",
        "version": 3
      },
      "file_extension": ".py",
      "mimetype": "text/x-python",
      "name": "python",
      "nbconvert_exporter": "python",
      "pygments_lexer": "ipython3",
      "version": "3.9.5"
    },
    "toc": {
      "base_numbering": 1,
      "nav_menu": {},
      "number_sections": true,
      "sideBar": true,
      "skip_h1_title": true,
      "title_cell": "Table of Contents",
      "title_sidebar": "Contents",
      "toc_cell": false,
      "toc_position": {},
      "toc_section_display": true,
      "toc_window_display": true
    },
    "vscode": {
      "interpreter": {
        "hash": "01a7be9ec63e704a62cefc5fe7a4756944464ee731be31632bdf42a4cb4688cf"
      }
    }
  },
  "nbformat": 4,
  "nbformat_minor": 5
}